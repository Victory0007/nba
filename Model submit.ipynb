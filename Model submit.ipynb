{
 "cells": [
  {
   "cell_type": "markdown",
   "id": "4b651b76",
   "metadata": {},
   "source": [
    "## Model to predict teams that will qualify for the playoffs"
   ]
  },
  {
   "cell_type": "markdown",
   "id": "c4dcd401",
   "metadata": {},
   "source": [
    "# I chose Decision trees to handle this problem because \n",
    "- It is an easy model and can be easily interpreted(it not seen as black boxes as opposed to neural networks)\n",
    "- It is easily scalable and relatively quick prediction time(log(n))\n",
    "- It easily captures non-linear relationships\n",
    "- It performed much better than other models I tried out including: Logistic regression, KNN, gradientboosting classifier, svms and random forests.\n",
    "\n",
    "The model below is guaranteed to predict at least 11 teams correctly out of 16  teams when trained and has accurately predicted 12 teams out of 16 teams at its best.\n",
    "\n",
    "The dataset lacks data about teams that made it to the finals from 1977 -2015. Hence there is isnt sufficient data to properly learn the trends required to predict and nba final. I tried to compensate for that using boot strapping impplemented via smote and randomoversampler. This helped to boost the model performance but cannot be compared to the effect actual correct data would have on the model."
   ]
  },
  {
   "cell_type": "code",
   "execution_count": 1,
   "id": "b5191add",
   "metadata": {},
   "outputs": [],
   "source": [
    "import pickle\n",
    "from sklearn.preprocessing import LabelEncoder\n",
    "import numpy as np\n",
    "import pandas as pd"
   ]
  },
  {
   "cell_type": "code",
   "execution_count": 3,
   "id": "f5da01a3",
   "metadata": {},
   "outputs": [],
   "source": [
    "with open(\"general_train_data.pkl\", \"rb\") as f:\n",
    "    general_train_data = pickle.load(f)"
   ]
  },
  {
   "cell_type": "code",
   "execution_count": 4,
   "id": "37376189",
   "metadata": {},
   "outputs": [],
   "source": [
    "with open(\"eastern_train_data\", \"rb\") as f:\n",
    "    eastern_train_data = pickle.load(f)\n",
    "with open(\"western_train_data\", \"rb\") as f:\n",
    "    western_train_data = pickle.load(f)\n",
    "with open(\"western_test_data\", \"rb\") as f:\n",
    "    western_test_data = pickle.load(f)\n",
    "with open(\"eastern_test_data\", \"rb\") as f:\n",
    "    eastern_test_data = pickle.load(f)"
   ]
  },
  {
   "cell_type": "code",
   "execution_count": 5,
   "id": "4701576b",
   "metadata": {},
   "outputs": [],
   "source": [
    "# with open(\"eastern_train_data\", \"wb\") as f:\n",
    "#     pickle.dump(eastern_train_data,f)\n",
    "# with open(\"western_train_data\", \"wb\") as f:\n",
    "#     pickle.dump(western_train_data,f)\n",
    "# with open(\"western_test_data\", \"wb\") as f:\n",
    "#     pickle.dump(western_test_data, f)\n",
    "# with open(\"eastern_test_data\", \"wb\") as f:\n",
    "#     pickle.dump(eastern_test_data, f)"
   ]
  },
  {
   "cell_type": "code",
   "execution_count": 6,
   "id": "5a2d477d",
   "metadata": {},
   "outputs": [],
   "source": [
    "with open(\"test_data\", \"rb\") as f:\n",
    "    test_data = pickle.load(f)"
   ]
  },
  {
   "cell_type": "code",
   "execution_count": 12,
   "id": "a53f090b",
   "metadata": {},
   "outputs": [
    {
     "data": {
      "text/plain": [
       "LabelEncoder()"
      ]
     },
     "execution_count": 12,
     "metadata": {},
     "output_type": "execute_result"
    }
   ],
   "source": [
    "# encoder = LabelEncoder()\n",
    "# encoder.fit(general_train_data[\"franch_id\"])"
   ]
  },
  {
   "cell_type": "code",
   "execution_count": 8,
   "id": "24e2624d",
   "metadata": {},
   "outputs": [],
   "source": [
    "# with open(\"encoder.pkl\", \"wb\") as f:\n",
    "#     pickle.dump(encoder, f)"
   ]
  },
  {
   "cell_type": "code",
   "execution_count": 9,
   "id": "d0e96027",
   "metadata": {},
   "outputs": [],
   "source": [
    "with open(\"encoder.pkl\", \"rb\") as f:\n",
    "    encoder = pickle.load(f)"
   ]
  },
  {
   "cell_type": "code",
   "execution_count": 15,
   "id": "73b18a01",
   "metadata": {},
   "outputs": [],
   "source": [
    "#I commented this out because I have already saved the label encoded version of this\n",
    "# #Converting the franchise column to ordinal numbers so it can be processed by the ml model\n",
    "# #East train\n",
    "# eastern_train_data[\"franch_id\"] = encoder.transform(eastern_train_data[\"franch_id\"])\n",
    "# #west train\n",
    "# western_train_data[\"franch_id\"] = encoder.transform(western_train_data[\"franch_id\"])\n",
    "# #East test\n",
    "# eastern_test_data[\"franch_id\"] = encoder.transform(eastern_test_data[\"franch_id\"])\n",
    "# #West test\n",
    "# western_test_data[\"franch_id\"] = encoder.transform(western_test_data[\"franch_id\"])"
   ]
  },
  {
   "cell_type": "code",
   "execution_count": 16,
   "id": "8f8e4567",
   "metadata": {},
   "outputs": [],
   "source": [
    "#Extracting predictor and target variable for the train sets\n",
    "y_east = eastern_train_data[\"playoffs\"]\n",
    "y_west = western_train_data[\"playoffs\"]\n",
    "x_east = eastern_train_data.drop(\"playoffs\", axis = 1)\n",
    "x_west = western_train_data.drop(\"playoffs\", axis = 1)"
   ]
  },
  {
   "cell_type": "code",
   "execution_count": 17,
   "id": "9505694f",
   "metadata": {},
   "outputs": [],
   "source": [
    "#Trying out a decision tree model to check if the features are relevant enough to make a good prediction for the target\n",
    "from sklearn.model_selection import train_test_split\n",
    "x_train_east, x_test_east, y_train_east, y_test_east = train_test_split(x_east, y_east, test_size=0.3, random_state=0)\n",
    "x_train_west, x_test_west, y_train_west, y_test_west = train_test_split(x_west, y_west, test_size=0.3, random_state=0)"
   ]
  },
  {
   "cell_type": "code",
   "execution_count": 18,
   "id": "cc8ce1d6",
   "metadata": {},
   "outputs": [
    {
     "name": "stdout",
     "output_type": "stream",
     "text": [
      "Fitting 5 folds for each of 10 candidates, totalling 50 fits\n",
      "Fitting 5 folds for each of 10 candidates, totalling 50 fits\n"
     ]
    },
    {
     "data": {
      "text/plain": [
       "RandomizedSearchCV(cv=5, estimator=DecisionTreeClassifier(), n_jobs=2,\n",
       "                   param_distributions={'max_depth': range(80, 100),\n",
       "                                        'min_samples_split': range(5, 15)},\n",
       "                   verbose=1)"
      ]
     },
     "execution_count": 18,
     "metadata": {},
     "output_type": "execute_result"
    }
   ],
   "source": [
    "from sklearn.model_selection import RandomizedSearchCV\n",
    "from sklearn.tree import DecisionTreeClassifier\n",
    "model = DecisionTreeClassifier()\n",
    "rs_dt_east = RandomizedSearchCV(model,\n",
    "                 {\"max_depth\": range(50, 80),\n",
    "                 \"min_samples_split\": range(5, 15, 1)},\n",
    "                 cv = 5,\n",
    "                 n_jobs=2,\n",
    "                 verbose = 1)\n",
    "rs_dt_east.fit(x_train_east, y_train_east)\n",
    "rs_dt_west = RandomizedSearchCV(model,\n",
    "                 {\"max_depth\": range(80, 100),\n",
    "                 \"min_samples_split\": range(5, 15, 1)},\n",
    "                 cv = 5,\n",
    "                 n_jobs=2,\n",
    "                 verbose = 1)\n",
    "rs_dt_west.fit(x_train_west, y_train_west)"
   ]
  },
  {
   "cell_type": "code",
   "execution_count": 19,
   "id": "6f77f2e5",
   "metadata": {},
   "outputs": [
    {
     "name": "stdout",
     "output_type": "stream",
     "text": [
      "DecisionTreeClassifier(max_depth=76, min_samples_split=14)\n",
      "DecisionTreeClassifier(max_depth=88, min_samples_split=13)\n"
     ]
    }
   ],
   "source": [
    "print(rs_dt_east.best_estimator_)\n",
    "print(rs_dt_west.best_estimator_)"
   ]
  },
  {
   "cell_type": "code",
   "execution_count": 20,
   "id": "71980bce",
   "metadata": {},
   "outputs": [],
   "source": [
    "model_east_po = rs_dt_east.best_estimator_\n",
    "model_west_po = rs_dt_west.best_estimator_"
   ]
  },
  {
   "cell_type": "code",
   "execution_count": 21,
   "id": "a53353d8",
   "metadata": {},
   "outputs": [
    {
     "data": {
      "text/plain": [
       "DecisionTreeClassifier(max_depth=88, min_samples_split=13)"
      ]
     },
     "execution_count": 21,
     "metadata": {},
     "output_type": "execute_result"
    }
   ],
   "source": [
    "model_east_po.fit(x_train_east, y_train_east)\n",
    "model_west_po.fit(x_train_west, y_train_west)"
   ]
  },
  {
   "cell_type": "code",
   "execution_count": 22,
   "id": "d7115985",
   "metadata": {},
   "outputs": [],
   "source": [
    "# with open(\"model_east_po.pkl\", \"wb\")as f:\n",
    "#     pickle.dump(model_east_po, f)\n",
    "# with open(\"model_west_po.pkl\", \"wb\") as f:\n",
    "#     pickle.dump(model_west_po, f)"
   ]
  },
  {
   "cell_type": "code",
   "execution_count": 23,
   "id": "706217b5",
   "metadata": {},
   "outputs": [],
   "source": [
    "# with open(\"model_east_po.pkl\", \"rb\") as f:\n",
    "#     model_east_po = pickle.load(f)\n",
    "# with open(\"model_west_po.pkl\", \"rb\") as f:\n",
    "#     model_west_po = pickle.load(f)"
   ]
  },
  {
   "cell_type": "code",
   "execution_count": 24,
   "id": "df5a6dd9",
   "metadata": {},
   "outputs": [
    {
     "name": "stdout",
     "output_type": "stream",
     "text": [
      "0.9587628865979382\n"
     ]
    },
    {
     "data": {
      "text/plain": [
       "0.95"
      ]
     },
     "execution_count": 24,
     "metadata": {},
     "output_type": "execute_result"
    }
   ],
   "source": [
    "from sklearn.metrics import precision_score\n",
    "y_pred_train_east = model_east_po.predict(x_train_east)\n",
    "print(precision_score(y_pred_train_east, y_train_east))\n",
    "y_pred_train_west = model_west_po.predict(x_train_west)\n",
    "precision_score(y_pred_train_west, y_train_west)"
   ]
  },
  {
   "cell_type": "code",
   "execution_count": 25,
   "id": "c6f0cd98",
   "metadata": {},
   "outputs": [
    {
     "name": "stdout",
     "output_type": "stream",
     "text": [
      "0.8777777777777778\n"
     ]
    },
    {
     "data": {
      "text/plain": [
       "0.8144329896907216"
      ]
     },
     "execution_count": 25,
     "metadata": {},
     "output_type": "execute_result"
    }
   ],
   "source": [
    "y_pred_test_east = model_east_po.predict(x_test_east)\n",
    "print(precision_score(y_pred_test_east, y_test_east))\n",
    "y_pred_test_west = model_west_po.predict(x_test_west)\n",
    "precision_score(y_pred_test_west, y_test_west)"
   ]
  },
  {
   "cell_type": "code",
   "execution_count": 26,
   "id": "384ecadb",
   "metadata": {},
   "outputs": [],
   "source": [
    "def make_predictions(model, data, encoder_test):\n",
    "    predictions = model.predict_proba(data)\n",
    "    one_pred = predictions[:,1]\n",
    "    team_indices = np.argsort(one_pred)[:8]\n",
    "    team_index = data.iloc[team_indices]\n",
    "    teams = encoder_test.classes_\n",
    "    return list(teams[list(team_index[\"franch_id\"])])"
   ]
  },
  {
   "cell_type": "code",
   "execution_count": 27,
   "id": "ec5fcaec",
   "metadata": {},
   "outputs": [
    {
     "name": "stderr",
     "output_type": "stream",
     "text": [
      "C:\\Users\\DELL  LATITUDE E5480\\anaconda3\\lib\\site-packages\\sklearn\\base.py:493: FutureWarning: The feature names should match those that were passed during fit. Starting version 1.2, an error will be raised.\n",
      "Feature names must be in the same order as they were in fit.\n",
      "\n",
      "  warnings.warn(message, FutureWarning)\n"
     ]
    }
   ],
   "source": [
    "eastern_pred_po = make_predictions(model_east_po, eastern_test_data, encoder)"
   ]
  },
  {
   "cell_type": "code",
   "execution_count": 28,
   "id": "c121d75f",
   "metadata": {},
   "outputs": [
    {
     "name": "stderr",
     "output_type": "stream",
     "text": [
      "C:\\Users\\DELL  LATITUDE E5480\\anaconda3\\lib\\site-packages\\sklearn\\base.py:493: FutureWarning: The feature names should match those that were passed during fit. Starting version 1.2, an error will be raised.\n",
      "Feature names must be in the same order as they were in fit.\n",
      "\n",
      "  warnings.warn(message, FutureWarning)\n"
     ]
    }
   ],
   "source": [
    "western_pred_po = make_predictions(model_west_po, western_test_data, encoder)"
   ]
  },
  {
   "cell_type": "code",
   "execution_count": 29,
   "id": "7eda44f3",
   "metadata": {},
   "outputs": [
    {
     "data": {
      "text/plain": [
       "['ATL', 'BOS', 'CHI', 'CLE', 'DET', 'IND', 'MIA', 'MIL']"
      ]
     },
     "execution_count": 29,
     "metadata": {},
     "output_type": "execute_result"
    }
   ],
   "source": [
    "eastern_pred_po"
   ]
  },
  {
   "cell_type": "code",
   "execution_count": 30,
   "id": "7e35ccb8",
   "metadata": {},
   "outputs": [
    {
     "data": {
      "text/plain": [
       "['LAL', 'NOP', 'DAL', 'DEN', 'GSW', 'HOU', 'LAC', 'MEM']"
      ]
     },
     "execution_count": 30,
     "metadata": {},
     "output_type": "execute_result"
    }
   ],
   "source": [
    "western_pred_po"
   ]
  },
  {
   "cell_type": "code",
   "execution_count": 31,
   "id": "a7b150e3",
   "metadata": {},
   "outputs": [],
   "source": [
    "#These are the teams the model predicted that would qualify for the nba playoffs\n",
    "western_po = list(encoder.transform(western_pred_po))\n",
    "eastern_po = list(encoder.transform(eastern_pred_po))"
   ]
  },
  {
   "cell_type": "code",
   "execution_count": 32,
   "id": "224e683d",
   "metadata": {},
   "outputs": [
    {
     "data": {
      "text/plain": [
       "[34, 48, 16, 17, 24, 25, 33, 36]"
      ]
     },
     "execution_count": 32,
     "metadata": {},
     "output_type": "execute_result"
    }
   ],
   "source": [
    "western_po"
   ]
  },
  {
   "cell_type": "code",
   "execution_count": 33,
   "id": "907baf4a",
   "metadata": {},
   "outputs": [
    {
     "data": {
      "text/html": [
       "<div>\n",
       "<style scoped>\n",
       "    .dataframe tbody tr th:only-of-type {\n",
       "        vertical-align: middle;\n",
       "    }\n",
       "\n",
       "    .dataframe tbody tr th {\n",
       "        vertical-align: top;\n",
       "    }\n",
       "\n",
       "    .dataframe thead th {\n",
       "        text-align: right;\n",
       "    }\n",
       "</style>\n",
       "<table border=\"1\" class=\"dataframe\">\n",
       "  <thead>\n",
       "    <tr style=\"text-align: right;\">\n",
       "      <th></th>\n",
       "      <th>season</th>\n",
       "      <th>franch_id</th>\n",
       "      <th>neutral</th>\n",
       "      <th>elo1_pre</th>\n",
       "      <th>elo2_pre</th>\n",
       "      <th>elo_prob1</th>\n",
       "      <th>elo_prob2</th>\n",
       "      <th>elo1_post</th>\n",
       "      <th>elo2_post</th>\n",
       "      <th>score1</th>\n",
       "      <th>score2</th>\n",
       "      <th>quality</th>\n",
       "    </tr>\n",
       "  </thead>\n",
       "  <tbody>\n",
       "    <tr>\n",
       "      <th>6</th>\n",
       "      <td>2023</td>\n",
       "      <td>16</td>\n",
       "      <td>0.0</td>\n",
       "      <td>1543.655056</td>\n",
       "      <td>1496.133569</td>\n",
       "      <td>0.687089</td>\n",
       "      <td>0.312911</td>\n",
       "      <td>1540.913724</td>\n",
       "      <td>1498.874901</td>\n",
       "      <td>115.365854</td>\n",
       "      <td>112.682927</td>\n",
       "      <td>58.024390</td>\n",
       "    </tr>\n",
       "    <tr>\n",
       "      <th>7</th>\n",
       "      <td>2023</td>\n",
       "      <td>17</td>\n",
       "      <td>0.0</td>\n",
       "      <td>1585.803211</td>\n",
       "      <td>1527.194310</td>\n",
       "      <td>0.705811</td>\n",
       "      <td>0.294189</td>\n",
       "      <td>1578.402525</td>\n",
       "      <td>1514.357020</td>\n",
       "      <td>118.505173</td>\n",
       "      <td>108.929981</td>\n",
       "      <td>69.283019</td>\n",
       "    </tr>\n",
       "    <tr>\n",
       "      <th>9</th>\n",
       "      <td>2023</td>\n",
       "      <td>24</td>\n",
       "      <td>0.0</td>\n",
       "      <td>1575.549509</td>\n",
       "      <td>1506.932117</td>\n",
       "      <td>0.711477</td>\n",
       "      <td>0.288523</td>\n",
       "      <td>1577.011189</td>\n",
       "      <td>1505.470437</td>\n",
       "      <td>119.297872</td>\n",
       "      <td>111.574468</td>\n",
       "      <td>58.404255</td>\n",
       "    </tr>\n",
       "    <tr>\n",
       "      <th>10</th>\n",
       "      <td>2023</td>\n",
       "      <td>25</td>\n",
       "      <td>0.0</td>\n",
       "      <td>1321.387748</td>\n",
       "      <td>1508.327249</td>\n",
       "      <td>0.383133</td>\n",
       "      <td>0.616867</td>\n",
       "      <td>1320.376347</td>\n",
       "      <td>1509.338650</td>\n",
       "      <td>110.756098</td>\n",
       "      <td>115.146341</td>\n",
       "      <td>14.073171</td>\n",
       "    </tr>\n",
       "    <tr>\n",
       "      <th>12</th>\n",
       "      <td>2023</td>\n",
       "      <td>33</td>\n",
       "      <td>0.0</td>\n",
       "      <td>1507.533222</td>\n",
       "      <td>1508.942769</td>\n",
       "      <td>0.630669</td>\n",
       "      <td>0.369331</td>\n",
       "      <td>1505.092568</td>\n",
       "      <td>1511.383422</td>\n",
       "      <td>112.697674</td>\n",
       "      <td>111.046512</td>\n",
       "      <td>51.930233</td>\n",
       "    </tr>\n",
       "    <tr>\n",
       "      <th>13</th>\n",
       "      <td>2023</td>\n",
       "      <td>34</td>\n",
       "      <td>0.0</td>\n",
       "      <td>1498.905945</td>\n",
       "      <td>1520.431951</td>\n",
       "      <td>0.605876</td>\n",
       "      <td>0.394124</td>\n",
       "      <td>1499.988412</td>\n",
       "      <td>1519.349484</td>\n",
       "      <td>116.620000</td>\n",
       "      <td>111.920000</td>\n",
       "      <td>51.840000</td>\n",
       "    </tr>\n",
       "    <tr>\n",
       "      <th>14</th>\n",
       "      <td>2023</td>\n",
       "      <td>36</td>\n",
       "      <td>0.0</td>\n",
       "      <td>1600.897236</td>\n",
       "      <td>1500.431581</td>\n",
       "      <td>0.747963</td>\n",
       "      <td>0.252037</td>\n",
       "      <td>1603.041427</td>\n",
       "      <td>1498.287390</td>\n",
       "      <td>119.136364</td>\n",
       "      <td>109.022727</td>\n",
       "      <td>61.818182</td>\n",
       "    </tr>\n",
       "    <tr>\n",
       "      <th>18</th>\n",
       "      <td>2023</td>\n",
       "      <td>48</td>\n",
       "      <td>0.0</td>\n",
       "      <td>1547.153536</td>\n",
       "      <td>1515.278892</td>\n",
       "      <td>0.670235</td>\n",
       "      <td>0.329765</td>\n",
       "      <td>1546.358428</td>\n",
       "      <td>1516.074000</td>\n",
       "      <td>115.000000</td>\n",
       "      <td>110.238095</td>\n",
       "      <td>53.214286</td>\n",
       "    </tr>\n",
       "  </tbody>\n",
       "</table>\n",
       "</div>"
      ],
      "text/plain": [
       "    season  franch_id  neutral     elo1_pre     elo2_pre  elo_prob1  \\\n",
       "6     2023         16      0.0  1543.655056  1496.133569   0.687089   \n",
       "7     2023         17      0.0  1585.803211  1527.194310   0.705811   \n",
       "9     2023         24      0.0  1575.549509  1506.932117   0.711477   \n",
       "10    2023         25      0.0  1321.387748  1508.327249   0.383133   \n",
       "12    2023         33      0.0  1507.533222  1508.942769   0.630669   \n",
       "13    2023         34      0.0  1498.905945  1520.431951   0.605876   \n",
       "14    2023         36      0.0  1600.897236  1500.431581   0.747963   \n",
       "18    2023         48      0.0  1547.153536  1515.278892   0.670235   \n",
       "\n",
       "    elo_prob2    elo1_post    elo2_post      score1      score2    quality  \n",
       "6    0.312911  1540.913724  1498.874901  115.365854  112.682927  58.024390  \n",
       "7    0.294189  1578.402525  1514.357020  118.505173  108.929981  69.283019  \n",
       "9    0.288523  1577.011189  1505.470437  119.297872  111.574468  58.404255  \n",
       "10   0.616867  1320.376347  1509.338650  110.756098  115.146341  14.073171  \n",
       "12   0.369331  1505.092568  1511.383422  112.697674  111.046512  51.930233  \n",
       "13   0.394124  1499.988412  1519.349484  116.620000  111.920000  51.840000  \n",
       "14   0.252037  1603.041427  1498.287390  119.136364  109.022727  61.818182  \n",
       "18   0.329765  1546.358428  1516.074000  115.000000  110.238095  53.214286  "
      ]
     },
     "execution_count": 33,
     "metadata": {},
     "output_type": "execute_result"
    }
   ],
   "source": [
    "western_test_data[western_test_data[\"franch_id\"].apply(lambda x : x in western_po)]#.loc[western_po]"
   ]
  },
  {
   "cell_type": "code",
   "execution_count": 34,
   "id": "19c8b739",
   "metadata": {},
   "outputs": [
    {
     "data": {
      "text/plain": [
       "[34, 48, 16, 17, 24, 25, 33, 36]"
      ]
     },
     "execution_count": 34,
     "metadata": {},
     "output_type": "execute_result"
    }
   ],
   "source": [
    "western_po"
   ]
  },
  {
   "cell_type": "code",
   "execution_count": 35,
   "id": "c1a5b380",
   "metadata": {},
   "outputs": [],
   "source": [
    "#Teams data that qualified for the playoffs\n",
    "western_test_data_po = western_test_data[western_test_data[\"franch_id\"].apply(lambda x : x in western_po)]\n",
    "eastern_test_data_po = eastern_test_data[eastern_test_data[\"franch_id\"].apply(lambda x : x in eastern_po)]"
   ]
  },
  {
   "cell_type": "markdown",
   "id": "21c62c22",
   "metadata": {},
   "source": [
    "## Model to predict teams that will reach the finals"
   ]
  },
  {
   "cell_type": "code",
   "execution_count": 36,
   "id": "5d06386e",
   "metadata": {},
   "outputs": [],
   "source": [
    "with open(\"C:/Users\\DELL  LATITUDE E5480\\Documents\\Job Interview/model_west_po.pkl\", \"rb\") as f:\n",
    "    playoff_pred_west = pickle.load(f)\n",
    "with open(\"western_train_data_final.pkl\", \"rb\") as f:\n",
    "    western_train_data_final = pickle.load(f)\n",
    "with open(\"eastern_train_data_final.pkl\", \"rb\") as f:\n",
    "    eastern_train_data_final = pickle.load(f)"
   ]
  },
  {
   "cell_type": "code",
   "execution_count": 37,
   "id": "968e9d6e",
   "metadata": {},
   "outputs": [
    {
     "data": {
      "text/html": [
       "<div>\n",
       "<style scoped>\n",
       "    .dataframe tbody tr th:only-of-type {\n",
       "        vertical-align: middle;\n",
       "    }\n",
       "\n",
       "    .dataframe tbody tr th {\n",
       "        vertical-align: top;\n",
       "    }\n",
       "\n",
       "    .dataframe thead th {\n",
       "        text-align: right;\n",
       "    }\n",
       "</style>\n",
       "<table border=\"1\" class=\"dataframe\">\n",
       "  <thead>\n",
       "    <tr style=\"text-align: right;\">\n",
       "      <th></th>\n",
       "      <th>season</th>\n",
       "      <th>neutral</th>\n",
       "      <th>franch_id</th>\n",
       "      <th>elo1_pre</th>\n",
       "      <th>elo2_pre</th>\n",
       "      <th>elo_prob1</th>\n",
       "      <th>elo_prob2</th>\n",
       "      <th>elo1_post</th>\n",
       "      <th>elo2_post</th>\n",
       "      <th>score1</th>\n",
       "      <th>score2</th>\n",
       "      <th>quality</th>\n",
       "      <th>finals</th>\n",
       "    </tr>\n",
       "  </thead>\n",
       "  <tbody>\n",
       "    <tr>\n",
       "      <th>889</th>\n",
       "      <td>2016</td>\n",
       "      <td>0.0</td>\n",
       "      <td>GSW</td>\n",
       "      <td>1791.092808</td>\n",
       "      <td>1669.293118</td>\n",
       "      <td>0.769306</td>\n",
       "      <td>0.230694</td>\n",
       "      <td>1791.952863</td>\n",
       "      <td>1668.433063</td>\n",
       "      <td>108.714286</td>\n",
       "      <td>97.142857</td>\n",
       "      <td>99.142857</td>\n",
       "      <td>1</td>\n",
       "    </tr>\n",
       "    <tr>\n",
       "      <th>895</th>\n",
       "      <td>2016</td>\n",
       "      <td>0.0</td>\n",
       "      <td>OKC</td>\n",
       "      <td>1718.021353</td>\n",
       "      <td>1695.349642</td>\n",
       "      <td>0.653899</td>\n",
       "      <td>0.346101</td>\n",
       "      <td>1722.425126</td>\n",
       "      <td>1690.945869</td>\n",
       "      <td>109.111111</td>\n",
       "      <td>95.777778</td>\n",
       "      <td>95.666667</td>\n",
       "      <td>1</td>\n",
       "    </tr>\n",
       "    <tr>\n",
       "      <th>903</th>\n",
       "      <td>2017</td>\n",
       "      <td>0.0</td>\n",
       "      <td>GSW</td>\n",
       "      <td>1813.943485</td>\n",
       "      <td>1647.475909</td>\n",
       "      <td>0.821607</td>\n",
       "      <td>0.178393</td>\n",
       "      <td>1818.098158</td>\n",
       "      <td>1643.321236</td>\n",
       "      <td>119.444444</td>\n",
       "      <td>102.555556</td>\n",
       "      <td>99.333333</td>\n",
       "      <td>1</td>\n",
       "    </tr>\n",
       "    <tr>\n",
       "      <th>911</th>\n",
       "      <td>2017</td>\n",
       "      <td>0.0</td>\n",
       "      <td>SAS</td>\n",
       "      <td>1655.732227</td>\n",
       "      <td>1629.575573</td>\n",
       "      <td>0.655006</td>\n",
       "      <td>0.344994</td>\n",
       "      <td>1653.317946</td>\n",
       "      <td>1631.989854</td>\n",
       "      <td>109.500000</td>\n",
       "      <td>105.625000</td>\n",
       "      <td>89.125000</td>\n",
       "      <td>1</td>\n",
       "    </tr>\n",
       "    <tr>\n",
       "      <th>917</th>\n",
       "      <td>2018</td>\n",
       "      <td>0.0</td>\n",
       "      <td>GSW</td>\n",
       "      <td>1644.171153</td>\n",
       "      <td>1633.129583</td>\n",
       "      <td>0.650611</td>\n",
       "      <td>0.349389</td>\n",
       "      <td>1652.848726</td>\n",
       "      <td>1624.452010</td>\n",
       "      <td>114.909091</td>\n",
       "      <td>98.909091</td>\n",
       "      <td>91.272727</td>\n",
       "      <td>1</td>\n",
       "    </tr>\n",
       "    <tr>\n",
       "      <th>918</th>\n",
       "      <td>2018</td>\n",
       "      <td>0.0</td>\n",
       "      <td>HOU</td>\n",
       "      <td>1740.487448</td>\n",
       "      <td>1639.429509</td>\n",
       "      <td>0.755445</td>\n",
       "      <td>0.244555</td>\n",
       "      <td>1738.537754</td>\n",
       "      <td>1641.379203</td>\n",
       "      <td>108.100000</td>\n",
       "      <td>102.000000</td>\n",
       "      <td>98.200000</td>\n",
       "      <td>1</td>\n",
       "    </tr>\n",
       "    <tr>\n",
       "      <th>935</th>\n",
       "      <td>2019</td>\n",
       "      <td>0.0</td>\n",
       "      <td>GSW</td>\n",
       "      <td>1670.549712</td>\n",
       "      <td>1655.339278</td>\n",
       "      <td>0.654366</td>\n",
       "      <td>0.345634</td>\n",
       "      <td>1667.465186</td>\n",
       "      <td>1658.423803</td>\n",
       "      <td>112.454545</td>\n",
       "      <td>111.181818</td>\n",
       "      <td>97.090909</td>\n",
       "      <td>1</td>\n",
       "    </tr>\n",
       "    <tr>\n",
       "      <th>943</th>\n",
       "      <td>2019</td>\n",
       "      <td>0.0</td>\n",
       "      <td>POR</td>\n",
       "      <td>1664.427330</td>\n",
       "      <td>1619.350891</td>\n",
       "      <td>0.692870</td>\n",
       "      <td>0.307130</td>\n",
       "      <td>1663.383803</td>\n",
       "      <td>1620.394418</td>\n",
       "      <td>115.375000</td>\n",
       "      <td>112.250000</td>\n",
       "      <td>91.250000</td>\n",
       "      <td>1</td>\n",
       "    </tr>\n",
       "    <tr>\n",
       "      <th>950</th>\n",
       "      <td>2020</td>\n",
       "      <td>1.0</td>\n",
       "      <td>DEN</td>\n",
       "      <td>1554.290407</td>\n",
       "      <td>1618.302426</td>\n",
       "      <td>0.410451</td>\n",
       "      <td>0.589549</td>\n",
       "      <td>1556.993554</td>\n",
       "      <td>1615.599279</td>\n",
       "      <td>106.888889</td>\n",
       "      <td>106.777778</td>\n",
       "      <td>94.111111</td>\n",
       "      <td>1</td>\n",
       "    </tr>\n",
       "    <tr>\n",
       "      <th>954</th>\n",
       "      <td>2020</td>\n",
       "      <td>1.0</td>\n",
       "      <td>LAL</td>\n",
       "      <td>1649.662961</td>\n",
       "      <td>1585.703585</td>\n",
       "      <td>0.590531</td>\n",
       "      <td>0.409469</td>\n",
       "      <td>1653.880489</td>\n",
       "      <td>1581.486057</td>\n",
       "      <td>113.666667</td>\n",
       "      <td>106.166667</td>\n",
       "      <td>93.916667</td>\n",
       "      <td>1</td>\n",
       "    </tr>\n",
       "    <tr>\n",
       "      <th>970</th>\n",
       "      <td>2021</td>\n",
       "      <td>0.0</td>\n",
       "      <td>LAC</td>\n",
       "      <td>1646.034532</td>\n",
       "      <td>1642.673043</td>\n",
       "      <td>0.642143</td>\n",
       "      <td>0.357857</td>\n",
       "      <td>1643.656922</td>\n",
       "      <td>1645.050653</td>\n",
       "      <td>112.000000</td>\n",
       "      <td>109.100000</td>\n",
       "      <td>97.000000</td>\n",
       "      <td>1</td>\n",
       "    </tr>\n",
       "    <tr>\n",
       "      <th>986</th>\n",
       "      <td>2022</td>\n",
       "      <td>0.0</td>\n",
       "      <td>DAL</td>\n",
       "      <td>1612.029162</td>\n",
       "      <td>1638.771925</td>\n",
       "      <td>0.603187</td>\n",
       "      <td>0.396813</td>\n",
       "      <td>1616.496464</td>\n",
       "      <td>1634.304622</td>\n",
       "      <td>106.375000</td>\n",
       "      <td>97.375000</td>\n",
       "      <td>92.750000</td>\n",
       "      <td>1</td>\n",
       "    </tr>\n",
       "    <tr>\n",
       "      <th>988</th>\n",
       "      <td>2022</td>\n",
       "      <td>0.0</td>\n",
       "      <td>GSW</td>\n",
       "      <td>1643.574204</td>\n",
       "      <td>1646.192680</td>\n",
       "      <td>0.633251</td>\n",
       "      <td>0.366749</td>\n",
       "      <td>1650.673336</td>\n",
       "      <td>1639.093549</td>\n",
       "      <td>115.083333</td>\n",
       "      <td>102.750000</td>\n",
       "      <td>93.916667</td>\n",
       "      <td>1</td>\n",
       "    </tr>\n",
       "    <tr>\n",
       "      <th>1003</th>\n",
       "      <td>2023</td>\n",
       "      <td>0.0</td>\n",
       "      <td>DEN</td>\n",
       "      <td>1585.032522</td>\n",
       "      <td>1577.993604</td>\n",
       "      <td>0.648796</td>\n",
       "      <td>0.351204</td>\n",
       "      <td>1592.578980</td>\n",
       "      <td>1570.447146</td>\n",
       "      <td>115.375000</td>\n",
       "      <td>103.375000</td>\n",
       "      <td>93.500000</td>\n",
       "      <td>1</td>\n",
       "    </tr>\n",
       "    <tr>\n",
       "      <th>1006</th>\n",
       "      <td>2023</td>\n",
       "      <td>0.0</td>\n",
       "      <td>LAL</td>\n",
       "      <td>1598.539340</td>\n",
       "      <td>1596.896150</td>\n",
       "      <td>0.641738</td>\n",
       "      <td>0.358262</td>\n",
       "      <td>1603.283335</td>\n",
       "      <td>1592.152156</td>\n",
       "      <td>114.777778</td>\n",
       "      <td>103.333333</td>\n",
       "      <td>93.111111</td>\n",
       "      <td>1</td>\n",
       "    </tr>\n",
       "  </tbody>\n",
       "</table>\n",
       "</div>"
      ],
      "text/plain": [
       "      season  neutral franch_id     elo1_pre     elo2_pre  elo_prob1  \\\n",
       "889     2016      0.0       GSW  1791.092808  1669.293118   0.769306   \n",
       "895     2016      0.0       OKC  1718.021353  1695.349642   0.653899   \n",
       "903     2017      0.0       GSW  1813.943485  1647.475909   0.821607   \n",
       "911     2017      0.0       SAS  1655.732227  1629.575573   0.655006   \n",
       "917     2018      0.0       GSW  1644.171153  1633.129583   0.650611   \n",
       "918     2018      0.0       HOU  1740.487448  1639.429509   0.755445   \n",
       "935     2019      0.0       GSW  1670.549712  1655.339278   0.654366   \n",
       "943     2019      0.0       POR  1664.427330  1619.350891   0.692870   \n",
       "950     2020      1.0       DEN  1554.290407  1618.302426   0.410451   \n",
       "954     2020      1.0       LAL  1649.662961  1585.703585   0.590531   \n",
       "970     2021      0.0       LAC  1646.034532  1642.673043   0.642143   \n",
       "986     2022      0.0       DAL  1612.029162  1638.771925   0.603187   \n",
       "988     2022      0.0       GSW  1643.574204  1646.192680   0.633251   \n",
       "1003    2023      0.0       DEN  1585.032522  1577.993604   0.648796   \n",
       "1006    2023      0.0       LAL  1598.539340  1596.896150   0.641738   \n",
       "\n",
       "      elo_prob2    elo1_post    elo2_post      score1      score2    quality  \\\n",
       "889    0.230694  1791.952863  1668.433063  108.714286   97.142857  99.142857   \n",
       "895    0.346101  1722.425126  1690.945869  109.111111   95.777778  95.666667   \n",
       "903    0.178393  1818.098158  1643.321236  119.444444  102.555556  99.333333   \n",
       "911    0.344994  1653.317946  1631.989854  109.500000  105.625000  89.125000   \n",
       "917    0.349389  1652.848726  1624.452010  114.909091   98.909091  91.272727   \n",
       "918    0.244555  1738.537754  1641.379203  108.100000  102.000000  98.200000   \n",
       "935    0.345634  1667.465186  1658.423803  112.454545  111.181818  97.090909   \n",
       "943    0.307130  1663.383803  1620.394418  115.375000  112.250000  91.250000   \n",
       "950    0.589549  1556.993554  1615.599279  106.888889  106.777778  94.111111   \n",
       "954    0.409469  1653.880489  1581.486057  113.666667  106.166667  93.916667   \n",
       "970    0.357857  1643.656922  1645.050653  112.000000  109.100000  97.000000   \n",
       "986    0.396813  1616.496464  1634.304622  106.375000   97.375000  92.750000   \n",
       "988    0.366749  1650.673336  1639.093549  115.083333  102.750000  93.916667   \n",
       "1003   0.351204  1592.578980  1570.447146  115.375000  103.375000  93.500000   \n",
       "1006   0.358262  1603.283335  1592.152156  114.777778  103.333333  93.111111   \n",
       "\n",
       "      finals  \n",
       "889        1  \n",
       "895        1  \n",
       "903        1  \n",
       "911        1  \n",
       "917        1  \n",
       "918        1  \n",
       "935        1  \n",
       "943        1  \n",
       "950        1  \n",
       "954        1  \n",
       "970        1  \n",
       "986        1  \n",
       "988        1  \n",
       "1003       1  \n",
       "1006       1  "
      ]
     },
     "execution_count": 37,
     "metadata": {},
     "output_type": "execute_result"
    }
   ],
   "source": [
    "#There is a lot of missing data concerning teams that made it to the finals. Hence it is largely affecting model perfomance\n",
    "#The dataset only show teams that made it to finals from 2016\n",
    "#It is best to correct and update the dataset for better predictions\n",
    "western_train_data_final[western_train_data_final[\"finals\"] == 1] "
   ]
  },
  {
   "cell_type": "code",
   "execution_count": 38,
   "id": "071e1903",
   "metadata": {},
   "outputs": [
    {
     "data": {
      "text/html": [
       "<div>\n",
       "<style scoped>\n",
       "    .dataframe tbody tr th:only-of-type {\n",
       "        vertical-align: middle;\n",
       "    }\n",
       "\n",
       "    .dataframe tbody tr th {\n",
       "        vertical-align: top;\n",
       "    }\n",
       "\n",
       "    .dataframe thead th {\n",
       "        text-align: right;\n",
       "    }\n",
       "</style>\n",
       "<table border=\"1\" class=\"dataframe\">\n",
       "  <thead>\n",
       "    <tr style=\"text-align: right;\">\n",
       "      <th></th>\n",
       "      <th>season</th>\n",
       "      <th>neutral</th>\n",
       "      <th>franch_id</th>\n",
       "      <th>elo1_pre</th>\n",
       "      <th>elo2_pre</th>\n",
       "      <th>elo_prob1</th>\n",
       "      <th>elo_prob2</th>\n",
       "      <th>elo1_post</th>\n",
       "      <th>elo2_post</th>\n",
       "      <th>score1</th>\n",
       "      <th>score2</th>\n",
       "      <th>quality</th>\n",
       "      <th>finals</th>\n",
       "    </tr>\n",
       "  </thead>\n",
       "  <tbody>\n",
       "    <tr>\n",
       "      <th>886</th>\n",
       "      <td>2016</td>\n",
       "      <td>0.0</td>\n",
       "      <td>CLE</td>\n",
       "      <td>1689.238734</td>\n",
       "      <td>1649.161720</td>\n",
       "      <td>0.684469</td>\n",
       "      <td>0.315531</td>\n",
       "      <td>1696.490993</td>\n",
       "      <td>1641.909461</td>\n",
       "      <td>111.100000</td>\n",
       "      <td>93.200000</td>\n",
       "      <td>94.100000</td>\n",
       "      <td>1</td>\n",
       "    </tr>\n",
       "    <tr>\n",
       "      <th>898</th>\n",
       "      <td>2016</td>\n",
       "      <td>0.0</td>\n",
       "      <td>TOR</td>\n",
       "      <td>1610.606054</td>\n",
       "      <td>1609.064231</td>\n",
       "      <td>0.636727</td>\n",
       "      <td>0.363273</td>\n",
       "      <td>1611.229755</td>\n",
       "      <td>1608.440530</td>\n",
       "      <td>97.909091</td>\n",
       "      <td>94.545455</td>\n",
       "      <td>87.454545</td>\n",
       "      <td>1</td>\n",
       "    </tr>\n",
       "    <tr>\n",
       "      <th>900</th>\n",
       "      <td>2017</td>\n",
       "      <td>0.0</td>\n",
       "      <td>BOS</td>\n",
       "      <td>1595.237952</td>\n",
       "      <td>1585.143165</td>\n",
       "      <td>0.650796</td>\n",
       "      <td>0.349204</td>\n",
       "      <td>1588.275258</td>\n",
       "      <td>1592.105860</td>\n",
       "      <td>108.900000</td>\n",
       "      <td>113.200000</td>\n",
       "      <td>82.600000</td>\n",
       "      <td>1</td>\n",
       "    </tr>\n",
       "    <tr>\n",
       "      <th>902</th>\n",
       "      <td>2017</td>\n",
       "      <td>0.0</td>\n",
       "      <td>CLE</td>\n",
       "      <td>1616.263283</td>\n",
       "      <td>1635.552506</td>\n",
       "      <td>0.607120</td>\n",
       "      <td>0.392880</td>\n",
       "      <td>1621.265521</td>\n",
       "      <td>1630.550269</td>\n",
       "      <td>117.125000</td>\n",
       "      <td>108.875000</td>\n",
       "      <td>83.250000</td>\n",
       "      <td>1</td>\n",
       "    </tr>\n",
       "    <tr>\n",
       "      <th>915</th>\n",
       "      <td>2018</td>\n",
       "      <td>0.0</td>\n",
       "      <td>BOS</td>\n",
       "      <td>1582.331951</td>\n",
       "      <td>1584.346856</td>\n",
       "      <td>0.634778</td>\n",
       "      <td>0.365222</td>\n",
       "      <td>1588.062474</td>\n",
       "      <td>1578.616334</td>\n",
       "      <td>106.000000</td>\n",
       "      <td>96.272727</td>\n",
       "      <td>79.818182</td>\n",
       "      <td>1</td>\n",
       "    </tr>\n",
       "    <tr>\n",
       "      <th>916</th>\n",
       "      <td>2018</td>\n",
       "      <td>0.0</td>\n",
       "      <td>CLE</td>\n",
       "      <td>1569.431937</td>\n",
       "      <td>1616.721126</td>\n",
       "      <td>0.574524</td>\n",
       "      <td>0.425476</td>\n",
       "      <td>1571.550816</td>\n",
       "      <td>1614.602247</td>\n",
       "      <td>103.545455</td>\n",
       "      <td>99.272727</td>\n",
       "      <td>82.272727</td>\n",
       "      <td>1</td>\n",
       "    </tr>\n",
       "    <tr>\n",
       "      <th>939</th>\n",
       "      <td>2019</td>\n",
       "      <td>0.0</td>\n",
       "      <td>MIL</td>\n",
       "      <td>1693.108131</td>\n",
       "      <td>1609.545122</td>\n",
       "      <td>0.736895</td>\n",
       "      <td>0.263105</td>\n",
       "      <td>1693.368523</td>\n",
       "      <td>1609.284730</td>\n",
       "      <td>112.750000</td>\n",
       "      <td>99.750000</td>\n",
       "      <td>93.250000</td>\n",
       "      <td>1</td>\n",
       "    </tr>\n",
       "    <tr>\n",
       "      <th>945</th>\n",
       "      <td>2019</td>\n",
       "      <td>0.0</td>\n",
       "      <td>TOR</td>\n",
       "      <td>1676.714064</td>\n",
       "      <td>1646.828898</td>\n",
       "      <td>0.675274</td>\n",
       "      <td>0.324726</td>\n",
       "      <td>1679.292031</td>\n",
       "      <td>1644.250930</td>\n",
       "      <td>108.153846</td>\n",
       "      <td>98.615385</td>\n",
       "      <td>98.615385</td>\n",
       "      <td>1</td>\n",
       "    </tr>\n",
       "    <tr>\n",
       "      <th>947</th>\n",
       "      <td>2020</td>\n",
       "      <td>1.0</td>\n",
       "      <td>BOS</td>\n",
       "      <td>1689.576092</td>\n",
       "      <td>1648.798870</td>\n",
       "      <td>0.557906</td>\n",
       "      <td>0.442094</td>\n",
       "      <td>1689.328213</td>\n",
       "      <td>1649.046749</td>\n",
       "      <td>111.375000</td>\n",
       "      <td>107.750000</td>\n",
       "      <td>99.250000</td>\n",
       "      <td>1</td>\n",
       "    </tr>\n",
       "    <tr>\n",
       "      <th>955</th>\n",
       "      <td>2020</td>\n",
       "      <td>1.0</td>\n",
       "      <td>MIA</td>\n",
       "      <td>1628.548891</td>\n",
       "      <td>1656.537678</td>\n",
       "      <td>0.460058</td>\n",
       "      <td>0.539942</td>\n",
       "      <td>1632.252381</td>\n",
       "      <td>1652.834188</td>\n",
       "      <td>110.000000</td>\n",
       "      <td>107.100000</td>\n",
       "      <td>94.600000</td>\n",
       "      <td>1</td>\n",
       "    </tr>\n",
       "    <tr>\n",
       "      <th>963</th>\n",
       "      <td>2021</td>\n",
       "      <td>0.0</td>\n",
       "      <td>ATL</td>\n",
       "      <td>1593.485345</td>\n",
       "      <td>1647.406854</td>\n",
       "      <td>0.565585</td>\n",
       "      <td>0.434415</td>\n",
       "      <td>1592.276817</td>\n",
       "      <td>1648.615382</td>\n",
       "      <td>106.250000</td>\n",
       "      <td>105.000000</td>\n",
       "      <td>91.125000</td>\n",
       "      <td>1</td>\n",
       "    </tr>\n",
       "    <tr>\n",
       "      <th>974</th>\n",
       "      <td>2021</td>\n",
       "      <td>0.0</td>\n",
       "      <td>MIL</td>\n",
       "      <td>1659.400330</td>\n",
       "      <td>1645.350349</td>\n",
       "      <td>0.656550</td>\n",
       "      <td>0.343450</td>\n",
       "      <td>1665.811527</td>\n",
       "      <td>1638.939152</td>\n",
       "      <td>112.090909</td>\n",
       "      <td>99.363636</td>\n",
       "      <td>95.454545</td>\n",
       "      <td>1</td>\n",
       "    </tr>\n",
       "    <tr>\n",
       "      <th>982</th>\n",
       "      <td>2022</td>\n",
       "      <td>0.0</td>\n",
       "      <td>BOS</td>\n",
       "      <td>1740.106366</td>\n",
       "      <td>1631.383943</td>\n",
       "      <td>0.766119</td>\n",
       "      <td>0.233881</td>\n",
       "      <td>1734.465231</td>\n",
       "      <td>1637.025079</td>\n",
       "      <td>104.500000</td>\n",
       "      <td>100.916667</td>\n",
       "      <td>98.666667</td>\n",
       "      <td>1</td>\n",
       "    </tr>\n",
       "    <tr>\n",
       "      <th>991</th>\n",
       "      <td>2022</td>\n",
       "      <td>0.0</td>\n",
       "      <td>MIA</td>\n",
       "      <td>1641.356237</td>\n",
       "      <td>1657.424274</td>\n",
       "      <td>0.615599</td>\n",
       "      <td>0.384401</td>\n",
       "      <td>1643.598043</td>\n",
       "      <td>1655.182467</td>\n",
       "      <td>106.800000</td>\n",
       "      <td>99.700000</td>\n",
       "      <td>92.900000</td>\n",
       "      <td>1</td>\n",
       "    </tr>\n",
       "    <tr>\n",
       "      <th>1000</th>\n",
       "      <td>2023</td>\n",
       "      <td>0.0</td>\n",
       "      <td>BOS</td>\n",
       "      <td>1688.689476</td>\n",
       "      <td>1606.170864</td>\n",
       "      <td>0.736958</td>\n",
       "      <td>0.263042</td>\n",
       "      <td>1683.761994</td>\n",
       "      <td>1611.098347</td>\n",
       "      <td>110.363636</td>\n",
       "      <td>106.090909</td>\n",
       "      <td>96.181818</td>\n",
       "      <td>1</td>\n",
       "    </tr>\n",
       "    <tr>\n",
       "      <th>1008</th>\n",
       "      <td>2023</td>\n",
       "      <td>0.0</td>\n",
       "      <td>MIA</td>\n",
       "      <td>1584.813848</td>\n",
       "      <td>1606.006783</td>\n",
       "      <td>0.610930</td>\n",
       "      <td>0.389070</td>\n",
       "      <td>1587.284369</td>\n",
       "      <td>1603.536262</td>\n",
       "      <td>108.700000</td>\n",
       "      <td>102.100000</td>\n",
       "      <td>90.100000</td>\n",
       "      <td>1</td>\n",
       "    </tr>\n",
       "  </tbody>\n",
       "</table>\n",
       "</div>"
      ],
      "text/plain": [
       "      season  neutral franch_id     elo1_pre     elo2_pre  elo_prob1  \\\n",
       "886     2016      0.0       CLE  1689.238734  1649.161720   0.684469   \n",
       "898     2016      0.0       TOR  1610.606054  1609.064231   0.636727   \n",
       "900     2017      0.0       BOS  1595.237952  1585.143165   0.650796   \n",
       "902     2017      0.0       CLE  1616.263283  1635.552506   0.607120   \n",
       "915     2018      0.0       BOS  1582.331951  1584.346856   0.634778   \n",
       "916     2018      0.0       CLE  1569.431937  1616.721126   0.574524   \n",
       "939     2019      0.0       MIL  1693.108131  1609.545122   0.736895   \n",
       "945     2019      0.0       TOR  1676.714064  1646.828898   0.675274   \n",
       "947     2020      1.0       BOS  1689.576092  1648.798870   0.557906   \n",
       "955     2020      1.0       MIA  1628.548891  1656.537678   0.460058   \n",
       "963     2021      0.0       ATL  1593.485345  1647.406854   0.565585   \n",
       "974     2021      0.0       MIL  1659.400330  1645.350349   0.656550   \n",
       "982     2022      0.0       BOS  1740.106366  1631.383943   0.766119   \n",
       "991     2022      0.0       MIA  1641.356237  1657.424274   0.615599   \n",
       "1000    2023      0.0       BOS  1688.689476  1606.170864   0.736958   \n",
       "1008    2023      0.0       MIA  1584.813848  1606.006783   0.610930   \n",
       "\n",
       "      elo_prob2    elo1_post    elo2_post      score1      score2    quality  \\\n",
       "886    0.315531  1696.490993  1641.909461  111.100000   93.200000  94.100000   \n",
       "898    0.363273  1611.229755  1608.440530   97.909091   94.545455  87.454545   \n",
       "900    0.349204  1588.275258  1592.105860  108.900000  113.200000  82.600000   \n",
       "902    0.392880  1621.265521  1630.550269  117.125000  108.875000  83.250000   \n",
       "915    0.365222  1588.062474  1578.616334  106.000000   96.272727  79.818182   \n",
       "916    0.425476  1571.550816  1614.602247  103.545455   99.272727  82.272727   \n",
       "939    0.263105  1693.368523  1609.284730  112.750000   99.750000  93.250000   \n",
       "945    0.324726  1679.292031  1644.250930  108.153846   98.615385  98.615385   \n",
       "947    0.442094  1689.328213  1649.046749  111.375000  107.750000  99.250000   \n",
       "955    0.539942  1632.252381  1652.834188  110.000000  107.100000  94.600000   \n",
       "963    0.434415  1592.276817  1648.615382  106.250000  105.000000  91.125000   \n",
       "974    0.343450  1665.811527  1638.939152  112.090909   99.363636  95.454545   \n",
       "982    0.233881  1734.465231  1637.025079  104.500000  100.916667  98.666667   \n",
       "991    0.384401  1643.598043  1655.182467  106.800000   99.700000  92.900000   \n",
       "1000   0.263042  1683.761994  1611.098347  110.363636  106.090909  96.181818   \n",
       "1008   0.389070  1587.284369  1603.536262  108.700000  102.100000  90.100000   \n",
       "\n",
       "      finals  \n",
       "886        1  \n",
       "898        1  \n",
       "900        1  \n",
       "902        1  \n",
       "915        1  \n",
       "916        1  \n",
       "939        1  \n",
       "945        1  \n",
       "947        1  \n",
       "955        1  \n",
       "963        1  \n",
       "974        1  \n",
       "982        1  \n",
       "991        1  \n",
       "1000       1  \n",
       "1008       1  "
      ]
     },
     "execution_count": 38,
     "metadata": {},
     "output_type": "execute_result"
    }
   ],
   "source": [
    "eastern_train_data_final[eastern_train_data_final[\"finals\"] == 1] "
   ]
  },
  {
   "cell_type": "code",
   "execution_count": 39,
   "id": "9489bb20",
   "metadata": {},
   "outputs": [],
   "source": [
    "#East train finals\n",
    "eastern_train_data_final[\"franch_id\"] = encoder.transform(eastern_train_data_final[\"franch_id\"])\n",
    "#West train finals\n",
    "western_train_data_final[\"franch_id\"] = encoder.transform(western_train_data_final[\"franch_id\"])"
   ]
  },
  {
   "cell_type": "code",
   "execution_count": 40,
   "id": "b84b62cc",
   "metadata": {},
   "outputs": [],
   "source": [
    "#Extracting predictor and target variable for the train sets\n",
    "y_east_final = eastern_train_data_final[\"finals\"]\n",
    "y_west_final = western_train_data_final[\"finals\"]\n",
    "x_east_final = eastern_train_data_final.drop(\"finals\", axis = 1)\n",
    "x_west_final = western_train_data_final.drop(\"finals\", axis = 1)"
   ]
  },
  {
   "cell_type": "code",
   "execution_count": 41,
   "id": "30009001",
   "metadata": {},
   "outputs": [],
   "source": [
    "#Handling the class imbalance of the training data\n",
    "#East training data\n",
    "from imblearn.over_sampling import SMOTE\n",
    "over = SMOTE()\n",
    "X, y = over.fit_resample(x_east_final, y_east_final)\n",
    "from imblearn.under_sampling import RandomUnderSampler\n",
    "under = RandomUnderSampler()\n",
    "x_east_final, y_east_final = under.fit_resample(X, y)"
   ]
  },
  {
   "cell_type": "code",
   "execution_count": 42,
   "id": "169ae0fe",
   "metadata": {},
   "outputs": [],
   "source": [
    "#Handling class imbalance of the west training data\n",
    "#West training data\n",
    "over = SMOTE()\n",
    "X, y = over.fit_resample(x_west_final, y_west_final)\n",
    "under = RandomUnderSampler()\n",
    "x_west_final, y_west_final = under.fit_resample(X, y)"
   ]
  },
  {
   "cell_type": "code",
   "execution_count": 43,
   "id": "8a8f2a04",
   "metadata": {},
   "outputs": [],
   "source": [
    "#Trying out a decision tree model to check if the features are relevant enough to make a good prediction for the target\n",
    "from sklearn.model_selection import train_test_split\n",
    "x_train_east_po, x_test_east_po, y_train_east_po, y_test_east_po = train_test_split(x_east_final, y_east_final, test_size=0.3, random_state=0)\n",
    "x_train_west_po, x_test_west_po, y_train_west_po, y_test_west_po = train_test_split(x_west_final, y_west_final, test_size=0.3, random_state=0)"
   ]
  },
  {
   "cell_type": "code",
   "execution_count": 44,
   "id": "6480d7a6",
   "metadata": {},
   "outputs": [
    {
     "name": "stdout",
     "output_type": "stream",
     "text": [
      "Fitting 5 folds for each of 10 candidates, totalling 50 fits\n",
      "Fitting 5 folds for each of 10 candidates, totalling 50 fits\n"
     ]
    },
    {
     "data": {
      "text/plain": [
       "RandomizedSearchCV(cv=5, estimator=DecisionTreeClassifier(), n_jobs=2,\n",
       "                   param_distributions={'max_depth': range(100, 120),\n",
       "                                        'min_samples_split': range(5, 15)},\n",
       "                   verbose=1)"
      ]
     },
     "execution_count": 44,
     "metadata": {},
     "output_type": "execute_result"
    }
   ],
   "source": [
    "from sklearn.model_selection import RandomizedSearchCV\n",
    "from sklearn.tree import DecisionTreeClassifier\n",
    "model = DecisionTreeClassifier()\n",
    "rs_dt_east = RandomizedSearchCV(model,\n",
    "                 {\"max_depth\": range(100, 120),\n",
    "                 \"min_samples_split\": range(5, 15, 1)},\n",
    "                 cv = 5,\n",
    "                 n_jobs=2,\n",
    "                 verbose = 1)\n",
    "rs_dt_east.fit(x_train_east_po, y_train_east_po)\n",
    "rs_dt_west = RandomizedSearchCV(model,\n",
    "                 {\"max_depth\": range(100, 120),\n",
    "                 \"min_samples_split\": range(5, 15, 1)},\n",
    "                 cv = 5,\n",
    "                 n_jobs=2,\n",
    "                 verbose = 1)\n",
    "rs_dt_west.fit(x_train_west_po, y_train_west_po)"
   ]
  },
  {
   "cell_type": "code",
   "execution_count": 45,
   "id": "5fc58702",
   "metadata": {},
   "outputs": [
    {
     "name": "stdout",
     "output_type": "stream",
     "text": [
      "DecisionTreeClassifier(max_depth=105, min_samples_split=14)\n",
      "DecisionTreeClassifier(max_depth=101, min_samples_split=5)\n"
     ]
    }
   ],
   "source": [
    "print(rs_dt_east.best_estimator_)\n",
    "print(rs_dt_west.best_estimator_)"
   ]
  },
  {
   "cell_type": "code",
   "execution_count": 46,
   "id": "57535ccc",
   "metadata": {},
   "outputs": [],
   "source": [
    "model_east_finals = rs_dt_east.best_estimator_\n",
    "model_west_finals = rs_dt_west.best_estimator_"
   ]
  },
  {
   "cell_type": "code",
   "execution_count": 47,
   "id": "67c6b4a0",
   "metadata": {},
   "outputs": [
    {
     "data": {
      "text/plain": [
       "DecisionTreeClassifier(max_depth=101, min_samples_split=5)"
      ]
     },
     "execution_count": 47,
     "metadata": {},
     "output_type": "execute_result"
    }
   ],
   "source": [
    "model_east_finals.fit(x_train_east_po, y_train_east_po)\n",
    "model_west_finals.fit(x_train_west_po, y_train_west_po)"
   ]
  },
  {
   "cell_type": "code",
   "execution_count": 48,
   "id": "65a6af5f",
   "metadata": {},
   "outputs": [],
   "source": [
    "# with open(\"model_east_finals.pkl\", \"wb\") as f:\n",
    "#     pickle.dump(model_east_finals, f)\n",
    "# with open(\"model_west_finals.pkl\", \"wb\") as f:\n",
    "#     pickle.dump(model_west_finals, f)"
   ]
  },
  {
   "cell_type": "code",
   "execution_count": 49,
   "id": "ee118631",
   "metadata": {},
   "outputs": [
    {
     "name": "stdout",
     "output_type": "stream",
     "text": [
      "0.9918433931484503\n"
     ]
    },
    {
     "data": {
      "text/plain": [
       "0.9981981981981982"
      ]
     },
     "execution_count": 49,
     "metadata": {},
     "output_type": "execute_result"
    }
   ],
   "source": [
    "from sklearn.metrics import precision_score\n",
    "y_pred_train_east = model_east_finals.predict(x_train_east_po)\n",
    "print(precision_score(y_pred_train_east, y_train_east_po))\n",
    "y_pred_train_west = model_west_finals.predict(x_train_west_po)\n",
    "precision_score(y_pred_train_west, y_train_west_po)"
   ]
  },
  {
   "cell_type": "code",
   "execution_count": 50,
   "id": "400b7baf",
   "metadata": {},
   "outputs": [
    {
     "name": "stdout",
     "output_type": "stream",
     "text": [
      "0.9961977186311787\n"
     ]
    },
    {
     "data": {
      "text/plain": [
       "1.0"
      ]
     },
     "execution_count": 50,
     "metadata": {},
     "output_type": "execute_result"
    }
   ],
   "source": [
    "y_pred_test_east = model_east_finals.predict(x_test_east_po)\n",
    "print(precision_score(y_pred_test_east, y_test_east_po))\n",
    "y_pred_test_west = model_west_finals.predict(x_test_west_po)\n",
    "precision_score(y_pred_test_west, y_test_west_po)"
   ]
  },
  {
   "cell_type": "code",
   "execution_count": 51,
   "id": "ab6b1a0a",
   "metadata": {},
   "outputs": [],
   "source": [
    "def make_predictions(model, data, encoder_test):\n",
    "    predictions = model.predict_proba(data)\n",
    "    one_pred = predictions[:,1]\n",
    "    team_indices = np.argsort(one_pred)[:1]\n",
    "    team_index = data.iloc[team_indices]\n",
    "    teams = encoder_test.classes_\n",
    "    return list(teams[list(team_index[\"franch_id\"])])"
   ]
  },
  {
   "cell_type": "code",
   "execution_count": 52,
   "id": "f030b9f8",
   "metadata": {},
   "outputs": [
    {
     "name": "stderr",
     "output_type": "stream",
     "text": [
      "C:\\Users\\DELL  LATITUDE E5480\\anaconda3\\lib\\site-packages\\sklearn\\base.py:493: FutureWarning: The feature names should match those that were passed during fit. Starting version 1.2, an error will be raised.\n",
      "Feature names must be in the same order as they were in fit.\n",
      "\n",
      "  warnings.warn(message, FutureWarning)\n"
     ]
    }
   ],
   "source": [
    "eastern_final_pred = make_predictions(model_east_finals, eastern_test_data_po, encoder)"
   ]
  },
  {
   "cell_type": "code",
   "execution_count": 53,
   "id": "4d054737",
   "metadata": {},
   "outputs": [
    {
     "data": {
      "text/plain": [
       "['ATL']"
      ]
     },
     "execution_count": 53,
     "metadata": {},
     "output_type": "execute_result"
    }
   ],
   "source": [
    "eastern_final_pred"
   ]
  },
  {
   "cell_type": "code",
   "execution_count": 54,
   "id": "ecf95c83",
   "metadata": {},
   "outputs": [
    {
     "name": "stderr",
     "output_type": "stream",
     "text": [
      "C:\\Users\\DELL  LATITUDE E5480\\anaconda3\\lib\\site-packages\\sklearn\\base.py:493: FutureWarning: The feature names should match those that were passed during fit. Starting version 1.2, an error will be raised.\n",
      "Feature names must be in the same order as they were in fit.\n",
      "\n",
      "  warnings.warn(message, FutureWarning)\n"
     ]
    }
   ],
   "source": [
    "western_final_pred = make_predictions(model_west_finals, western_test_data_po, encoder)"
   ]
  },
  {
   "cell_type": "code",
   "execution_count": 55,
   "id": "52f9ae78",
   "metadata": {},
   "outputs": [
    {
     "data": {
      "text/plain": [
       "['DAL']"
      ]
     },
     "execution_count": 55,
     "metadata": {},
     "output_type": "execute_result"
    }
   ],
   "source": [
    "western_final_pred"
   ]
  },
  {
   "cell_type": "markdown",
   "id": "e8ae3c37",
   "metadata": {},
   "source": [
    "### The model predicts that \"ATL\" and \"DAL\" will reach the nba finals"
   ]
  },
  {
   "cell_type": "markdown",
   "id": "1f459f95",
   "metadata": {},
   "source": [
    "# Eventual winners of the nba"
   ]
  },
  {
   "cell_type": "code",
   "execution_count": 56,
   "id": "673e618c",
   "metadata": {},
   "outputs": [],
   "source": [
    "# with open(\"general_train_data.pkl\", \"rb\") as f:\n",
    "#     general_train_data = pickle.load(f)"
   ]
  },
  {
   "cell_type": "code",
   "execution_count": 57,
   "id": "a2642be4",
   "metadata": {},
   "outputs": [
    {
     "data": {
      "text/html": [
       "<div>\n",
       "<style scoped>\n",
       "    .dataframe tbody tr th:only-of-type {\n",
       "        vertical-align: middle;\n",
       "    }\n",
       "\n",
       "    .dataframe tbody tr th {\n",
       "        vertical-align: top;\n",
       "    }\n",
       "\n",
       "    .dataframe thead th {\n",
       "        text-align: right;\n",
       "    }\n",
       "</style>\n",
       "<table border=\"1\" class=\"dataframe\">\n",
       "  <thead>\n",
       "    <tr style=\"text-align: right;\">\n",
       "      <th></th>\n",
       "      <th>season</th>\n",
       "      <th>neutral</th>\n",
       "      <th>franch_id</th>\n",
       "      <th>elo1_pre</th>\n",
       "      <th>elo2_pre</th>\n",
       "      <th>elo_prob1</th>\n",
       "      <th>elo_prob2</th>\n",
       "      <th>elo1_post</th>\n",
       "      <th>elo2_post</th>\n",
       "      <th>score1</th>\n",
       "      <th>score2</th>\n",
       "      <th>quality</th>\n",
       "      <th>finals</th>\n",
       "    </tr>\n",
       "  </thead>\n",
       "  <tbody>\n",
       "    <tr>\n",
       "      <th>0</th>\n",
       "      <td>1977</td>\n",
       "      <td>0.0</td>\n",
       "      <td>ATL</td>\n",
       "      <td>1375.606346</td>\n",
       "      <td>1503.551354</td>\n",
       "      <td>0.460603</td>\n",
       "      <td>0.539397</td>\n",
       "      <td>1374.624802</td>\n",
       "      <td>1504.532895</td>\n",
       "      <td>101.829268</td>\n",
       "      <td>104.268293</td>\n",
       "      <td>21.097561</td>\n",
       "      <td>0</td>\n",
       "    </tr>\n",
       "    <tr>\n",
       "      <th>1</th>\n",
       "      <td>1977</td>\n",
       "      <td>0.0</td>\n",
       "      <td>BOS</td>\n",
       "      <td>1503.015685</td>\n",
       "      <td>1503.181737</td>\n",
       "      <td>0.630800</td>\n",
       "      <td>0.369200</td>\n",
       "      <td>1502.305171</td>\n",
       "      <td>1503.892246</td>\n",
       "      <td>106.463415</td>\n",
       "      <td>104.731707</td>\n",
       "      <td>47.463415</td>\n",
       "      <td>0</td>\n",
       "    </tr>\n",
       "    <tr>\n",
       "      <th>2</th>\n",
       "      <td>1977</td>\n",
       "      <td>0.0</td>\n",
       "      <td>CHI</td>\n",
       "      <td>1464.972910</td>\n",
       "      <td>1504.132256</td>\n",
       "      <td>0.580926</td>\n",
       "      <td>0.419074</td>\n",
       "      <td>1468.476712</td>\n",
       "      <td>1500.628441</td>\n",
       "      <td>100.365854</td>\n",
       "      <td>95.097561</td>\n",
       "      <td>39.073171</td>\n",
       "      <td>0</td>\n",
       "    </tr>\n",
       "    <tr>\n",
       "      <th>3</th>\n",
       "      <td>1977</td>\n",
       "      <td>0.0</td>\n",
       "      <td>CLE</td>\n",
       "      <td>1538.177666</td>\n",
       "      <td>1505.280859</td>\n",
       "      <td>0.676215</td>\n",
       "      <td>0.323785</td>\n",
       "      <td>1539.055212</td>\n",
       "      <td>1504.403312</td>\n",
       "      <td>104.731707</td>\n",
       "      <td>99.341463</td>\n",
       "      <td>55.414634</td>\n",
       "      <td>0</td>\n",
       "    </tr>\n",
       "    <tr>\n",
       "      <th>4</th>\n",
       "      <td>1977</td>\n",
       "      <td>0.0</td>\n",
       "      <td>DEN</td>\n",
       "      <td>1615.548263</td>\n",
       "      <td>1494.947332</td>\n",
       "      <td>0.775216</td>\n",
       "      <td>0.224784</td>\n",
       "      <td>1618.574702</td>\n",
       "      <td>1491.920888</td>\n",
       "      <td>116.682927</td>\n",
       "      <td>103.585366</td>\n",
       "      <td>68.634146</td>\n",
       "      <td>0</td>\n",
       "    </tr>\n",
       "  </tbody>\n",
       "</table>\n",
       "</div>"
      ],
      "text/plain": [
       "   season  neutral franch_id     elo1_pre     elo2_pre  elo_prob1  elo_prob2  \\\n",
       "0    1977      0.0       ATL  1375.606346  1503.551354   0.460603   0.539397   \n",
       "1    1977      0.0       BOS  1503.015685  1503.181737   0.630800   0.369200   \n",
       "2    1977      0.0       CHI  1464.972910  1504.132256   0.580926   0.419074   \n",
       "3    1977      0.0       CLE  1538.177666  1505.280859   0.676215   0.323785   \n",
       "4    1977      0.0       DEN  1615.548263  1494.947332   0.775216   0.224784   \n",
       "\n",
       "     elo1_post    elo2_post      score1      score2    quality  finals  \n",
       "0  1374.624802  1504.532895  101.829268  104.268293  21.097561       0  \n",
       "1  1502.305171  1503.892246  106.463415  104.731707  47.463415       0  \n",
       "2  1468.476712  1500.628441  100.365854   95.097561  39.073171       0  \n",
       "3  1539.055212  1504.403312  104.731707   99.341463  55.414634       0  \n",
       "4  1618.574702  1491.920888  116.682927  103.585366  68.634146       0  "
      ]
     },
     "execution_count": 57,
     "metadata": {},
     "output_type": "execute_result"
    }
   ],
   "source": [
    "general_train_data.head()"
   ]
  },
  {
   "cell_type": "code",
   "execution_count": 58,
   "id": "c804b5e5",
   "metadata": {},
   "outputs": [],
   "source": [
    "general_train_data[\"franch_id\"] = encoder.transform(general_train_data[\"franch_id\"])"
   ]
  },
  {
   "cell_type": "code",
   "execution_count": 59,
   "id": "a59da69f",
   "metadata": {},
   "outputs": [],
   "source": [
    "y_final = general_train_data[\"finals\"]\n",
    "x_final = general_train_data.drop(\"finals\", axis=1)"
   ]
  },
  {
   "cell_type": "code",
   "execution_count": 60,
   "id": "39eb459a",
   "metadata": {},
   "outputs": [],
   "source": [
    "#Handling class imbalance of the west training data\n",
    "#West training data\n",
    "over = SMOTE()\n",
    "X, y = over.fit_resample(x_final, y_final)\n",
    "under = RandomUnderSampler()\n",
    "x_final, y_final = under.fit_resample(X, y)"
   ]
  },
  {
   "cell_type": "code",
   "execution_count": 61,
   "id": "885492c2",
   "metadata": {},
   "outputs": [],
   "source": [
    "x_train_final, x_test_final, y_train_final, y_test_final = train_test_split(x_final, y_final, test_size=0.3, random_state=0)"
   ]
  },
  {
   "cell_type": "code",
   "execution_count": 62,
   "id": "7a011267",
   "metadata": {},
   "outputs": [],
   "source": [
    "#These are the teams the model predicted that would qualify for the nba playoffs\n",
    "western_final = list(encoder.transform(western_final_pred))\n",
    "eastern_final = list(encoder.transform(eastern_final_pred))"
   ]
  },
  {
   "cell_type": "code",
   "execution_count": 63,
   "id": "56862742",
   "metadata": {},
   "outputs": [
    {
     "data": {
      "text/plain": [
       "[16]"
      ]
     },
     "execution_count": 63,
     "metadata": {},
     "output_type": "execute_result"
    }
   ],
   "source": [
    "western_final"
   ]
  },
  {
   "cell_type": "code",
   "execution_count": 64,
   "id": "30f4ed31",
   "metadata": {},
   "outputs": [],
   "source": [
    "#Teams data that qualified for the playoffs\n",
    "western_test_data_final = western_test_data[western_test_data[\"franch_id\"].apply(lambda x : x in western_final)]\n",
    "eastern_test_data_final = eastern_test_data[eastern_test_data[\"franch_id\"].apply(lambda x : x in eastern_final)]"
   ]
  },
  {
   "cell_type": "code",
   "execution_count": 65,
   "id": "1a9b2b46",
   "metadata": {},
   "outputs": [],
   "source": [
    "two_teams = pd.concat((eastern_test_data_final, western_test_data_final))"
   ]
  },
  {
   "cell_type": "code",
   "execution_count": 66,
   "id": "645b633e",
   "metadata": {},
   "outputs": [
    {
     "name": "stdout",
     "output_type": "stream",
     "text": [
      "Fitting 5 folds for each of 10 candidates, totalling 50 fits\n"
     ]
    },
    {
     "data": {
      "text/plain": [
       "RandomizedSearchCV(cv=5, estimator=DecisionTreeClassifier(), n_jobs=2,\n",
       "                   param_distributions={'max_depth': range(120, 150),\n",
       "                                        'min_samples_split': range(5, 15)},\n",
       "                   verbose=1)"
      ]
     },
     "execution_count": 66,
     "metadata": {},
     "output_type": "execute_result"
    }
   ],
   "source": [
    "model = DecisionTreeClassifier()\n",
    "rs_winner = RandomizedSearchCV(model,\n",
    "                 {\"max_depth\": range(120, 150),\n",
    "                 \"min_samples_split\": range(5, 15, 1)},\n",
    "                 cv = 5,\n",
    "                 n_jobs=2,\n",
    "                 verbose = 1)\n",
    "rs_winner.fit(x_train_final, y_train_final)"
   ]
  },
  {
   "cell_type": "code",
   "execution_count": 67,
   "id": "cc602cda",
   "metadata": {},
   "outputs": [
    {
     "data": {
      "text/plain": [
       "DecisionTreeClassifier(max_depth=120, min_samples_split=13)"
      ]
     },
     "execution_count": 67,
     "metadata": {},
     "output_type": "execute_result"
    }
   ],
   "source": [
    "final_model = rs_winner.best_estimator_\n",
    "final_model.fit(x_train_final, y_train_final)"
   ]
  },
  {
   "cell_type": "code",
   "execution_count": 68,
   "id": "4596c1f8",
   "metadata": {},
   "outputs": [],
   "source": [
    "# with open(\"final_model.pkl\", \"wb\") as f:\n",
    "#     pickle.dump(final_model, f)"
   ]
  },
  {
   "cell_type": "code",
   "execution_count": 69,
   "id": "8fc5bbb9",
   "metadata": {},
   "outputs": [
    {
     "name": "stdout",
     "output_type": "stream",
     "text": [
      "0.9985845718329794\n"
     ]
    }
   ],
   "source": [
    "from sklearn.metrics import precision_score\n",
    "y_pred_final = final_model.predict(x_train_final)\n",
    "print(precision_score(y_pred_final, y_train_final))"
   ]
  },
  {
   "cell_type": "code",
   "execution_count": 70,
   "id": "f3b8a8e9",
   "metadata": {},
   "outputs": [
    {
     "name": "stdout",
     "output_type": "stream",
     "text": [
      "0.993431855500821\n"
     ]
    }
   ],
   "source": [
    "y_pred_test_final = final_model.predict(x_test_final)\n",
    "print(precision_score(y_pred_test_final, y_test_final))"
   ]
  },
  {
   "cell_type": "code",
   "execution_count": 71,
   "id": "e729dcd6",
   "metadata": {},
   "outputs": [],
   "source": [
    "def make_predictions_final(model, data, encoder_test):\n",
    "    predictions = model.predict_proba(data)\n",
    "    one_pred = predictions[:,1]\n",
    "    team_indices = np.argsort(one_pred)[:1]\n",
    "    team_index = data.iloc[team_indices]\n",
    "    teams = encoder_test.classes_\n",
    "    return list(teams[list(team_index[\"franch_id\"])])"
   ]
  },
  {
   "cell_type": "code",
   "execution_count": 72,
   "id": "80078523",
   "metadata": {},
   "outputs": [
    {
     "name": "stderr",
     "output_type": "stream",
     "text": [
      "C:\\Users\\DELL  LATITUDE E5480\\anaconda3\\lib\\site-packages\\sklearn\\base.py:493: FutureWarning: The feature names should match those that were passed during fit. Starting version 1.2, an error will be raised.\n",
      "Feature names must be in the same order as they were in fit.\n",
      "\n",
      "  warnings.warn(message, FutureWarning)\n"
     ]
    }
   ],
   "source": [
    "final_winner = make_predictions_final(final_model, two_teams, encoder)"
   ]
  },
  {
   "cell_type": "code",
   "execution_count": 73,
   "id": "fc4373c3",
   "metadata": {},
   "outputs": [
    {
     "data": {
      "text/plain": [
       "['ATL']"
      ]
     },
     "execution_count": 73,
     "metadata": {},
     "output_type": "execute_result"
    }
   ],
   "source": [
    "final_winner"
   ]
  },
  {
   "cell_type": "markdown",
   "id": "d09a7629",
   "metadata": {},
   "source": [
    "# Generate a Random team and predict their perfomance"
   ]
  },
  {
   "cell_type": "code",
   "execution_count": null,
   "id": "0f8433d9",
   "metadata": {},
   "outputs": [],
   "source": []
  },
  {
   "cell_type": "code",
   "execution_count": null,
   "id": "67f395d0",
   "metadata": {},
   "outputs": [],
   "source": []
  },
  {
   "cell_type": "code",
   "execution_count": null,
   "id": "c0f85dd5",
   "metadata": {},
   "outputs": [],
   "source": []
  },
  {
   "cell_type": "code",
   "execution_count": null,
   "id": "2ad9ef64",
   "metadata": {},
   "outputs": [],
   "source": []
  }
 ],
 "metadata": {
  "kernelspec": {
   "display_name": "Python 3 (ipykernel)",
   "language": "python",
   "name": "python3"
  },
  "language_info": {
   "codemirror_mode": {
    "name": "ipython",
    "version": 3
   },
   "file_extension": ".py",
   "mimetype": "text/x-python",
   "name": "python",
   "nbconvert_exporter": "python",
   "pygments_lexer": "ipython3",
   "version": "3.9.13"
  }
 },
 "nbformat": 4,
 "nbformat_minor": 5
}
